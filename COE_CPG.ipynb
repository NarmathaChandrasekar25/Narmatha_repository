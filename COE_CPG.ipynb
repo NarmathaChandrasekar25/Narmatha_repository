{
 "cells": [
  {
   "cell_type": "code",
   "execution_count": 1,
   "id": "6071e0cc-3fd6-4d53-9753-00316430a5d8",
   "metadata": {},
   "outputs": [
    {
     "name": "stdout",
     "output_type": "stream",
     "text": [
      "Collecting time-series\n",
      "  Downloading https://files.pythonhosted.org/packages/82/16/a6f73386a6d44149d3b71de2d4da6525b7df70b2a795b2a63ad778914592/time_series-0.2-py3-none-any.whl\n",
      "Installing collected packages: time-series\n",
      "Successfully installed time-series-0.2\n",
      "\u001b[33mWARNING: You are using pip version 19.3.1; however, version 24.2 is available.\n",
      "You should consider upgrading via the 'pip install --upgrade pip' command.\u001b[0m\n",
      "Note: you may need to restart the kernel to use updated packages.\n"
     ]
    }
   ],
   "source": [
    "pip install time-series"
   ]
  },
  {
   "cell_type": "code",
   "execution_count": null,
   "id": "c5f61767-fe93-4f49-b7e2-8cea3a7824a4",
   "metadata": {},
   "outputs": [],
   "source": []
  }
 ],
 "metadata": {
  "kernelspec": {
   "display_name": "Python 3 (ipykernel)",
   "language": "python",
   "name": "python3"
  },
  "language_info": {
   "codemirror_mode": {
    "name": "ipython",
    "version": 3
   },
   "file_extension": ".py",
   "mimetype": "text/x-python",
   "name": "python",
   "nbconvert_exporter": "python",
   "pygments_lexer": "ipython3",
   "version": "3.9.19"
  }
 },
 "nbformat": 4,
 "nbformat_minor": 5
}
