{
 "cells": [
  {
   "cell_type": "code",
   "execution_count": null,
   "id": "6071e0cc-3fd6-4d53-9753-00316430a5d8",
   "metadata": {},
   "outputs": [],
   "source": []
  }
 ],
 "metadata": {
  "kernelspec": {
   "display_name": "",
   "name": ""
  },
  "language_info": {
   "name": ""
  }
 },
 "nbformat": 4,
 "nbformat_minor": 5
}
